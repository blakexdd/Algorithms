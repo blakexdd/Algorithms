{
 "cells": [
  {
   "cell_type": "code",
   "execution_count": 3,
   "metadata": {},
   "outputs": [],
   "source": [
    "import numpy as np"
   ]
  },
  {
   "cell_type": "code",
   "execution_count": 21,
   "metadata": {},
   "outputs": [],
   "source": [
    "def split(matrix):\n",
    "    row, col = matrix.shape[0] // 2, matrix.shape[1] // 2\n",
    "    \n",
    "    return matrix[:row, :col], matrix[row:, :col], matrix[:row, col:], matrix[row:, col:]"
   ]
  },
  {
   "cell_type": "code",
   "execution_count": 26,
   "metadata": {},
   "outputs": [],
   "source": [
    "def matMul(matr1, matr2):\n",
    "    if len(matr1) == 1:\n",
    "        return matr1 * matr2\n",
    "    \n",
    "    a11, a21, a12, a22 = split(matr1) \n",
    "    b11, b21, b12, b22 = split(matr2)\n",
    "    \n",
    "    s1 = b12 - b22\n",
    "    s2 = a11 + a12\n",
    "    s3 = a21 + a22\n",
    "    s4 = b21 - b11\n",
    "    s5 = a11 + a22\n",
    "    s6 = b11 + b22\n",
    "    s7 = a12 - a22\n",
    "    s8 = b21 + b22\n",
    "    s9 = a11 - a21\n",
    "    s10 = b11 + b12\n",
    "    \n",
    "    p1 = matMul(a11, s1)\n",
    "    p2 = matMul(s2, b22)\n",
    "    p3 = matMul(s3, b11)\n",
    "    p4 = matMul(a22, s4)\n",
    "    p5 = matMul(s5, s6)\n",
    "    p6 = matMul(s7, s8)\n",
    "    p7 = matMul(s9, s10)\n",
    "    \n",
    "    c11 = p5 + p4 - p2 + p6\n",
    "    c12 = p1 + p2\n",
    "    c21 = p3 + p4\n",
    "    c22 = p5 + p1 - p3 - p7\n",
    "    \n",
    "    c = np.vstack((np.hstack((c11, c12)), np.hstack((c21, c22))))  \n",
    "  \n",
    "    return c     "
   ]
  },
  {
   "cell_type": "code",
   "execution_count": 27,
   "metadata": {},
   "outputs": [],
   "source": [
    "m1 = np.array([[1, 3], [2, 4]])\n",
    "m2 = np.array([[3, 2], [1, 4]])"
   ]
  },
  {
   "cell_type": "code",
   "execution_count": 28,
   "metadata": {},
   "outputs": [
    {
     "data": {
      "text/plain": [
       "array([[ 6, 14],\n",
       "       [10, 20]])"
      ]
     },
     "execution_count": 28,
     "metadata": {},
     "output_type": "execute_result"
    }
   ],
   "source": [
    "np.matmul(m1, m2)"
   ]
  },
  {
   "cell_type": "code",
   "execution_count": 29,
   "metadata": {},
   "outputs": [
    {
     "data": {
      "text/plain": [
       "array([[ 6, 14],\n",
       "       [10, 20]])"
      ]
     },
     "execution_count": 29,
     "metadata": {},
     "output_type": "execute_result"
    }
   ],
   "source": [
    "matMul(m1, m2)"
   ]
  },
  {
   "cell_type": "code",
   "execution_count": null,
   "metadata": {},
   "outputs": [],
   "source": []
  }
 ],
 "metadata": {
  "kernelspec": {
   "display_name": "Python 3",
   "language": "python",
   "name": "python3"
  },
  "language_info": {
   "codemirror_mode": {
    "name": "ipython",
    "version": 3
   },
   "file_extension": ".py",
   "mimetype": "text/x-python",
   "name": "python",
   "nbconvert_exporter": "python",
   "pygments_lexer": "ipython3",
   "version": "3.8.2"
  }
 },
 "nbformat": 4,
 "nbformat_minor": 4
}
