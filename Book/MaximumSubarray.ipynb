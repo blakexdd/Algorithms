{
 "cells": [
  {
   "cell_type": "code",
   "execution_count": 1,
   "metadata": {},
   "outputs": [],
   "source": [
    "import numpy as np"
   ]
  },
  {
   "cell_type": "code",
   "execution_count": 65,
   "metadata": {},
   "outputs": [],
   "source": [
    "def findCrossSubarray(arr, low, mid, high):\n",
    "    sum = 0\n",
    "    left_sum = -np.Inf\n",
    "    left_index = 0\n",
    "    right_index = 0\n",
    "    \n",
    "    for i in range(mid, 0, -1):\n",
    "        sum += arr[i]\n",
    "        if sum > left_sum:\n",
    "            left_sum = sum\n",
    "            left_index = i\n",
    "            \n",
    "    sum = 0\n",
    "    right_sum = -np.Inf\n",
    "    \n",
    "    for i in range(mid + 1, high, 1):\n",
    "        sum += arr[i]\n",
    "        if sum > right_sum:\n",
    "            right_sum = sum\n",
    "            right_index = i\n",
    "            \n",
    "    return (left_index, right_index, right_sum + left_sum)"
   ]
  },
  {
   "cell_type": "code",
   "execution_count": 66,
   "metadata": {},
   "outputs": [],
   "source": [
    "def findMaxSubarray(arr, low, high):\n",
    "    if low == high:\n",
    "        return (low, high, arr[low])\n",
    "    else:\n",
    "        mid = (low + high) // 2\n",
    "        left_res = findMaxSubarray(arr, low, mid)\n",
    "        right_res = findMaxSubarray(arr, mid + 1, high)\n",
    "        cross_res = findCrossSubarray(arr, low, mid, high)\n",
    "        \n",
    "        if (left_res[2] > right_res[2] and left_res[2] > cross_res[2]):\n",
    "            return left_res\n",
    "        elif (right_res[2] > right_res[2] and right_res[2] > cross_res[2]):\n",
    "            return right_res\n",
    "        else:\n",
    "            return cross_res\n",
    "        \n",
    "        "
   ]
  },
  {
   "cell_type": "code",
   "execution_count": 67,
   "metadata": {},
   "outputs": [],
   "source": [
    "arr = np.array([13, -3, -25, 20, -3, -16, -23, 18, 20, -7, 12, -5, -22, 15, -4])"
   ]
  },
  {
   "cell_type": "code",
   "execution_count": 68,
   "metadata": {},
   "outputs": [
    {
     "data": {
      "text/plain": [
       "(7, 10, 43)"
      ]
     },
     "execution_count": 68,
     "metadata": {},
     "output_type": "execute_result"
    }
   ],
   "source": [
    "findMaxSubarray(arr, 0, arr.size - 1)"
   ]
  },
  {
   "cell_type": "code",
   "execution_count": null,
   "metadata": {},
   "outputs": [],
   "source": []
  }
 ],
 "metadata": {
  "kernelspec": {
   "display_name": "Python 3",
   "language": "python",
   "name": "python3"
  },
  "language_info": {
   "codemirror_mode": {
    "name": "ipython",
    "version": 3
   },
   "file_extension": ".py",
   "mimetype": "text/x-python",
   "name": "python",
   "nbconvert_exporter": "python",
   "pygments_lexer": "ipython3",
   "version": "3.8.2"
  }
 },
 "nbformat": 4,
 "nbformat_minor": 4
}
